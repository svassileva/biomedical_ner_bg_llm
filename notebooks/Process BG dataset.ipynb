{
 "cells": [
  {
   "cell_type": "code",
   "execution_count": null,
   "id": "303a21cb",
   "metadata": {},
   "outputs": [],
   "source": [
    "import pandas as pd"
   ]
  },
  {
   "cell_type": "code",
   "execution_count": null,
   "id": "80758bb1",
   "metadata": {},
   "outputs": [],
   "source": [
    "df_bg_gold = pd.read_csv('gold_standard_nested_links_diagnosis_2023.csv', header=0)\n",
    "df_bg_gold.head(50)"
   ]
  },
  {
   "cell_type": "code",
   "execution_count": null,
   "id": "b93dc373",
   "metadata": {},
   "outputs": [],
   "source": [
    "def replace_label(label):\n",
    "    if 'B-' in label:\n",
    "        return 'B-MEDTERM'\n",
    "    elif 'I-' in label:\n",
    "        return 'I-MEDTERM'\n",
    "    return 'O'"
   ]
  },
  {
   "cell_type": "code",
   "execution_count": null,
   "id": "bc229d4a",
   "metadata": {},
   "outputs": [],
   "source": [
    "prev_doc_id = 0\n",
    "prev_label = 'O'\n",
    "with open(\"bg_conll_30_test_2023.txt\", \"w\") as file1:  \n",
    "    for index, row in df_bg_gold.iterrows():\n",
    "        if prev_doc_id != row['doc_id']:\n",
    "            file1.write('\\n')\n",
    "\n",
    "        label = str(row['terms'])\n",
    "        if label == '':\n",
    "            label = 'O'\n",
    "        #label = row['type0']\n",
    "        #if label == 'O':\n",
    "        #    label = row['type1']\n",
    "        #if label == 'O':\n",
    "        #    label = row['type2']\n",
    "\n",
    "        label = replace_label(label)\n",
    "        #if 'MEDTERM' in prev_label and 'B-' in label:\n",
    "        #    label = 'I-MEDTERM'\n",
    "        #print(f\"{row['text']} {label}\")\n",
    "        file1.write(f\"{row['text']} {label}\\n\")\n",
    "        \n",
    "        prev_doc_id = row['doc_id']\n",
    "        prev_label = label"
   ]
  },
  {
   "cell_type": "code",
   "execution_count": null,
   "id": "9b151bb9",
   "metadata": {},
   "outputs": [],
   "source": [
    "#filename\tmark\tlabel\toff0\toff1\tspan\tcode\tsemantic_rel\n",
    "entities = []\n",
    "current_entity = {\n",
    "    'filename': '',\n",
    "    'span': '',\n",
    "    'off0': -1,\n",
    "    'off1': -1    \n",
    "}\n",
    "current_start = 0\n",
    "current_doc = ''\n",
    "for index, row in df_bg_gold.iterrows():    \n",
    "    label = str(row['terms'])\n",
    "    \n",
    "    if current_doc == '' or current_doc != row['doc_id']:\n",
    "        current_doc = row['doc_id']\n",
    "        current_start = 0\n",
    "    \n",
    "    if label.startswith('B-'):\n",
    "        if len(current_entity['span']) > 0:\n",
    "            entities.append(current_entity)\n",
    "            current_entity = {\n",
    "                'filename': row['doc_id'],\n",
    "                'span': '',\n",
    "                'off0': -1,\n",
    "                'off1': -1    \n",
    "            }\n",
    "            \n",
    "        current_entity = {\n",
    "            'filename': row['doc_id'],\n",
    "            'span': row['text'],\n",
    "            'off0': current_start,\n",
    "            'off1': current_start + len(row['text'])    \n",
    "        }\n",
    "        \n",
    "    elif label.startswith('I-'):\n",
    "        current_entity['span'] += ' ' + row['text']\n",
    "        current_entity['off1'] += len(row['text']) + 1\n",
    "    else:\n",
    "        if len(current_entity['span']) > 0:\n",
    "            entities.append(current_entity)\n",
    "            current_entity = {\n",
    "                'filename': row['doc_id'],\n",
    "                'span': '',\n",
    "                'off0': -1,\n",
    "                'off1': -1    \n",
    "            }\n",
    "    \n",
    "    current_start += len(row['text']) + 1\n",
    "    print(f\"'{row['text']}':{current_start}\")"
   ]
  },
  {
   "cell_type": "code",
   "execution_count": null,
   "id": "fd122523",
   "metadata": {},
   "outputs": [],
   "source": [
    "entities"
   ]
  },
  {
   "cell_type": "code",
   "execution_count": null,
   "id": "207a5ea6",
   "metadata": {},
   "outputs": [],
   "source": [
    "df_entities = pd.DataFrame(entities)\n",
    "df_entities.head()"
   ]
  },
  {
   "cell_type": "code",
   "execution_count": null,
   "id": "4ac75380",
   "metadata": {},
   "outputs": [],
   "source": [
    "df_entities.to_csv('bg_gold_standard_entities.tsv', sep='\\t', index=False)"
   ]
  },
  {
   "cell_type": "code",
   "execution_count": null,
   "id": "09fc8cc4",
   "metadata": {},
   "outputs": [],
   "source": []
  }
 ],
 "metadata": {
  "kernelspec": {
   "display_name": "Python 3 (ipykernel)",
   "language": "python",
   "name": "python3"
  },
  "language_info": {
   "codemirror_mode": {
    "name": "ipython",
    "version": 3
   },
   "file_extension": ".py",
   "mimetype": "text/x-python",
   "name": "python",
   "nbconvert_exporter": "python",
   "pygments_lexer": "ipython3",
   "version": "3.10.12"
  }
 },
 "nbformat": 4,
 "nbformat_minor": 5
}
