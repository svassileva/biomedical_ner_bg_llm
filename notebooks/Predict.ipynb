{
 "cells": [
  {
   "cell_type": "code",
   "execution_count": 1,
   "id": "0ea61c6b",
   "metadata": {},
   "outputs": [],
   "source": [
    "import faiss\n",
    "import torch\n",
    "import wget\n",
    "import os\n",
    "import numpy as np\n",
    "import pandas as pd\n",
    "from IPython.display import display\n",
    "from tqdm import tqdm"
   ]
  },
  {
   "cell_type": "code",
   "execution_count": 2,
   "id": "b677a3e9",
   "metadata": {},
   "outputs": [],
   "source": [
    "def predict_partition(test_kb_embs, test_kb_cids, test_query_embs, k, queries_len):\n",
    "    # Initialize knowledge base and query data loaders\n",
    "    #results_top_1 = []\n",
    "    results = []\n",
    "    result_ids = []\n",
    "    result_scores = []\n",
    "    #test_kb_dataloader = model.setup_dataloader(test_kb, is_index_data=True)\n",
    "    #test_query_dataloader = model.setup_dataloader(test_queries, is_index_data=True)\n",
    "    \n",
    "    # Get knowledge base and query embeddings\n",
    "    #test_kb_embs, test_kb_cids = get_embeddings(model, test_kb_dataloader)\n",
    "    #test_query_embs, test_query_cids = get_embeddings(model, test_query_dataloader)\n",
    "    #test_query_embs = get_query_embedding(queries, model).cpu().detach().numpy()\n",
    "\n",
    "    # Calculate the cosine distance between each query and knowledge base concept\n",
    "    score_matrix = np.matmul(np.array(test_query_embs), np.array(test_kb_embs).T)\n",
    "    #accs = {k : 0 for k in ks}\n",
    "    \n",
    "    # Compare the knowledge base IDs of the knowledge base entities with \n",
    "    # the smallest cosine distance from the query \n",
    "    for query_idx in tqdm(range(queries_len)):\n",
    "        query_emb = test_query_embs[query_idx]\n",
    "        #query_cid = test_query_cids[query_idx]\n",
    "        query_scores = score_matrix[query_idx]\n",
    "\n",
    "        #for k in ks:\n",
    "        topk_idxs = np.argpartition(query_scores, -k)[-k:]\n",
    "        topk_cids = [test_kb_cids[idx].item() for idx in topk_idxs]\n",
    "        topk_scores = [query_scores[idx] for idx in topk_idxs]\n",
    "            \n",
    "        #    if k == 1:\n",
    "        results.append(topk_cids)\n",
    "        result_ids.append(topk_idxs)\n",
    "        result_scores.append(topk_scores)\n",
    "            # If the correct query ID is amoung the top k closest kb IDs\n",
    "            # the model correctly linked the entity\n",
    "         #   match = int(query_cid in topk_cids)\n",
    "         #   accs[k] += match\n",
    "\n",
    "    #for k in ks:\n",
    "    #    accs[k] /= len(test_query_cids)\n",
    "                \n",
    "    #return accs, results_top_1\n",
    "    return results, result_ids, result_scores"
   ]
  },
  {
   "cell_type": "code",
   "execution_count": 3,
   "id": "2952ed50",
   "metadata": {},
   "outputs": [],
   "source": [
    "path = \"/mnt/d/school/data/umls-2023AA-metathesaurus-full/umls_sapbert/files\"\n",
    "k = 1\n",
    "#load query embeddings - 2 files\n",
    "\n",
    "gold_test_embs = np.load(f'{path}/umls_gold_test_627.npy')\n",
    "#gold_test_embs = np.load(f'{path}/umls_bg_gold_test_5.npy')\n",
    "#test_embs = np.load(f'{path}/umls_bg_pred_test_llama_6.npy')\n",
    "#test_embs = np.load(f'{path}/umls_test_665.npy') \n",
    "test_embs = np.load(f'{path}/umls_mm_pred_test_llama_429.npy') \n",
    "#filename = 'gold_test'\n",
    "filename_gold = 'mm_gold_test'\n",
    "filename_pred = 'mm_test_llama'\n",
    "\n",
    "#filename_gold = 'bg_gold_test'\n",
    "#filename_pred = 'bg_test'\n",
    "queries_len = 16000\n",
    "gold_test_embs_len = len(gold_test_embs)\n",
    "test_embs_len = len(test_embs)\n",
    "\n",
    "microbatches = test_embs_len // queries_len + 1"
   ]
  },
  {
   "cell_type": "code",
   "execution_count": 4,
   "id": "5986df28",
   "metadata": {},
   "outputs": [
    {
     "data": {
      "text/plain": [
       "2"
      ]
     },
     "execution_count": 4,
     "metadata": {},
     "output_type": "execute_result"
    }
   ],
   "source": [
    "microbatches"
   ]
  },
  {
   "cell_type": "code",
   "execution_count": 5,
   "id": "5d508ed1",
   "metadata": {},
   "outputs": [],
   "source": [
    "def store_results(results, result_ids, result_scores, batch_idx, microbatch_idx, filename, model_folder=''): #/xmlr\n",
    "    with open(f'files/{model_folder}umls_{filename}llama_cids_{batch_idx}_{microbatch_idx}.npy', 'wb') as f:\n",
    "        np.save(f, np.array(results))                \n",
    "    with open(f'files/{model_folder}umls_{filename}llama_idx_{batch_idx}_{microbatch_idx}.npy', 'wb') as f:\n",
    "        np.save(f, result_ids)\n",
    "    with open(f'files/{model_folder}umls_{filename}llama_scores_{batch_idx}_{microbatch_idx}.npy', 'wb') as f:\n",
    "        np.save(f, result_scores)"
   ]
  },
  {
   "cell_type": "code",
   "execution_count": null,
   "id": "2efad222",
   "metadata": {},
   "outputs": [],
   "source": [
    "for file_idx in range(1, 133): #xlmr - 134\n",
    "    # load partition KB\n",
    "    # calculate cosine similiraty\n",
    "    test_kb_cids = np.load(f'{path}/umls_kb_cids_{file_idx}000.npy') #.0 cuis\n",
    "    test_kb_embs = np.load(f'{path}/umls_kb_{file_idx}000.npy')\n",
    "    \n",
    "    for microbatch_idx in range(0, microbatches):\n",
    "        start_idx = microbatch_idx * queries_len\n",
    "        end_idx = start_idx + queries_len if start_idx + queries_len <= gold_test_embs_len else gold_test_embs_len\n",
    "        \n",
    "        results, result_ids, result_scores = predict_partition(test_kb_embs, test_kb_cids, gold_test_embs[start_idx:end_idx], k, end_idx-start_idx)\n",
    "        store_results(results, result_ids, result_scores, file_idx, microbatch_idx, filename_gold)\n",
    "        results, result_ids, result_scores = [], [], []\n",
    "        \n",
    "        start_idx = microbatch_idx * queries_len\n",
    "        end_idx = start_idx + queries_len if start_idx + queries_len <= test_embs_len else test_embs_len\n",
    "        \n",
    "        results, result_ids, result_scores = predict_partition(test_kb_embs, test_kb_cids, test_embs[start_idx:end_idx], k, end_idx-start_idx)\n",
    "        store_results(results, result_ids, result_scores, file_idx, microbatch_idx, filename_pred)\n",
    "        results, result_ids, result_scores = [], [], []\n",
    "        print(f\"processed {file_idx}:{microbatch_idx}\")\n",
    "    \n",
    "    test_kb_cids, test_kb_embs = [], []   "
   ]
  },
  {
   "cell_type": "code",
   "execution_count": 7,
   "id": "74acdbcd",
   "metadata": {},
   "outputs": [
    {
     "data": {
      "text/plain": [
       "27446"
      ]
     },
     "execution_count": 7,
     "metadata": {},
     "output_type": "execute_result"
    }
   ],
   "source": [
    "test_embs_len"
   ]
  },
  {
   "cell_type": "code",
   "execution_count": 8,
   "id": "364f0c12",
   "metadata": {},
   "outputs": [
    {
     "data": {
      "text/plain": [
       "40097"
      ]
     },
     "execution_count": 8,
     "metadata": {},
     "output_type": "execute_result"
    }
   ],
   "source": [
    "gold_test_embs_len"
   ]
  },
  {
   "cell_type": "code",
   "execution_count": 12,
   "id": "4501ac8d",
   "metadata": {},
   "outputs": [],
   "source": [
    "filename = filename_pred #gold #'test'\n",
    "num_samples = test_embs_len #gold_test_embs_len #42553 #40097\n",
    "num_files = 133\n",
    "\n",
    "total_results = np.empty((num_samples, num_files), dtype=object)\n",
    "total_result_ids = np.zeros((num_samples, num_files))\n",
    "total_result_scores = np.zeros((num_samples, num_files))"
   ]
  },
  {
   "cell_type": "code",
   "execution_count": 13,
   "id": "528c391e",
   "metadata": {},
   "outputs": [],
   "source": [
    "model_folder = '' #/xlmr\n",
    "for file_idx in range(1, 133):\n",
    "    # load partition KB\n",
    "    column_results = []\n",
    "    column_result_ids = []\n",
    "    column_result_scores = []\n",
    "    for microbatch_idx in range(0, microbatches):\n",
    "        results = np.load(f'files/{model_folder}umls_{filename}llama_cids_{file_idx}_{microbatch_idx}.npy')\n",
    "        result_ids = np.load(f'files/{model_folder}umls_{filename}llama_idx_{file_idx}_{microbatch_idx}.npy')\n",
    "        result_scores = np.load(f'files/{model_folder}umls_{filename}llama_scores_{file_idx}_{microbatch_idx}.npy')\n",
    "        \n",
    "        column_results.extend(results)\n",
    "        column_result_ids.extend(result_ids)\n",
    "        column_result_scores.extend(result_scores)\n",
    "        \n",
    "    total_results[:,file_idx-1] = np.array(column_results).reshape((num_samples,))\n",
    "    total_result_ids[:,file_idx-1] = np.array(column_result_ids).reshape((num_samples,))\n",
    "    total_result_scores[:,file_idx-1] = np.array(column_result_scores).reshape((num_samples,))\n",
    "    \n",
    "    #column_results, column_result_ids, column_result_scores = [], [], []\n",
    "    \n",
    "    #break"
   ]
  },
  {
   "cell_type": "code",
   "execution_count": 14,
   "id": "5f963131",
   "metadata": {},
   "outputs": [
    {
     "data": {
      "text/plain": [
       "array([[45660, 113976, 142999, ..., 8366837, 8397265, None],\n",
       "       [45660, 113976, 142999, ..., 8366837, 8397265, None],\n",
       "       [45660, 113976, 142999, ..., 8366837, 8397265, None],\n",
       "       ...,\n",
       "       [39225, 70722, 153914, ..., 8323556, 8395603, None],\n",
       "       [32120, 72448, 134350, ..., 8325945, 8388777, None],\n",
       "       [32120, 72448, 134350, ..., 8325945, 8388777, None]], dtype=object)"
      ]
     },
     "execution_count": 14,
     "metadata": {},
     "output_type": "execute_result"
    }
   ],
   "source": [
    "total_results[0:10]"
   ]
  },
  {
   "cell_type": "code",
   "execution_count": 15,
   "id": "285a8076",
   "metadata": {},
   "outputs": [
    {
     "data": {
      "text/plain": [
       "array([[0.60376561, 0.59530568, 0.5888555 , ..., 0.57505178, 0.50889796,\n",
       "        0.        ],\n",
       "       [0.60376561, 0.59530568, 0.5888555 , ..., 0.57505178, 0.50889796,\n",
       "        0.        ],\n",
       "       [0.60376561, 0.59530568, 0.5888555 , ..., 0.57505178, 0.50889796,\n",
       "        0.        ],\n",
       "       ...,\n",
       "       [0.7702142 , 0.84051204, 0.6441986 , ..., 0.59693217, 0.58231568,\n",
       "        0.        ],\n",
       "       [0.61764002, 0.59166759, 0.62796354, ..., 0.57642281, 0.7087428 ,\n",
       "        0.        ],\n",
       "       [0.61764002, 0.59166759, 0.62796354, ..., 0.57642281, 0.7087428 ,\n",
       "        0.        ]])"
      ]
     },
     "execution_count": 15,
     "metadata": {},
     "output_type": "execute_result"
    }
   ],
   "source": [
    "total_result_scores[0:10]"
   ]
  },
  {
   "cell_type": "code",
   "execution_count": 16,
   "id": "ed4763eb",
   "metadata": {},
   "outputs": [
    {
     "data": {
      "text/plain": [
       "(27446, 133)"
      ]
     },
     "execution_count": 16,
     "metadata": {},
     "output_type": "execute_result"
    }
   ],
   "source": [
    "total_result_scores.shape"
   ]
  },
  {
   "cell_type": "code",
   "execution_count": 17,
   "id": "b0a6100e",
   "metadata": {},
   "outputs": [],
   "source": [
    "topk_idxs = np.argmax(total_result_scores, axis=1)"
   ]
  },
  {
   "cell_type": "code",
   "execution_count": 18,
   "id": "44f4e491",
   "metadata": {},
   "outputs": [],
   "source": [
    "#topk_idxs = np.argpartition(total_result_scores.T, -k)[-k:]"
   ]
  },
  {
   "cell_type": "code",
   "execution_count": 19,
   "id": "a6982398",
   "metadata": {},
   "outputs": [
    {
     "data": {
      "text/plain": [
       "27446"
      ]
     },
     "execution_count": 19,
     "metadata": {},
     "output_type": "execute_result"
    }
   ],
   "source": [
    "len(topk_idxs)"
   ]
  },
  {
   "cell_type": "code",
   "execution_count": 20,
   "id": "bbc582df",
   "metadata": {},
   "outputs": [
    {
     "data": {
      "text/plain": [
       "131"
      ]
     },
     "execution_count": 20,
     "metadata": {},
     "output_type": "execute_result"
    }
   ],
   "source": [
    "np.max(topk_idxs)"
   ]
  },
  {
   "cell_type": "code",
   "execution_count": 21,
   "id": "5d2803f2",
   "metadata": {},
   "outputs": [],
   "source": [
    "topk_cids = [total_results[idx][top_idx] for idx, top_idx in zip(range(0,num_samples),topk_idxs)]\n",
    "topk_scores = [total_result_scores[idx][top_idx] for idx, top_idx in zip(range(0,num_samples),topk_idxs)]"
   ]
  },
  {
   "cell_type": "code",
   "execution_count": 22,
   "id": "764a5080",
   "metadata": {},
   "outputs": [
    {
     "data": {
      "text/plain": [
       "[524641,\n",
       " 524641,\n",
       " 524641,\n",
       " 2169616,\n",
       " 2169616,\n",
       " 712731,\n",
       " 712731,\n",
       " 712731,\n",
       " 580440,\n",
       " 580440]"
      ]
     },
     "execution_count": 22,
     "metadata": {},
     "output_type": "execute_result"
    }
   ],
   "source": [
    "topk_cids[0:10]"
   ]
  },
  {
   "cell_type": "code",
   "execution_count": 23,
   "id": "da64f25a",
   "metadata": {},
   "outputs": [
    {
     "data": {
      "text/plain": [
       "[1.0,\n",
       " 1.0,\n",
       " 1.0,\n",
       " 0.7669359445571899,\n",
       " 0.7669359445571899,\n",
       " 1.0,\n",
       " 1.0,\n",
       " 1.0,\n",
       " 0.949481189250946,\n",
       " 0.949481189250946]"
      ]
     },
     "execution_count": 23,
     "metadata": {},
     "output_type": "execute_result"
    }
   ],
   "source": [
    "topk_scores[0:10]"
   ]
  },
  {
   "cell_type": "code",
   "execution_count": 24,
   "id": "3ab559cf",
   "metadata": {},
   "outputs": [
    {
     "data": {
      "text/plain": [
       "27446"
      ]
     },
     "execution_count": 24,
     "metadata": {},
     "output_type": "execute_result"
    }
   ],
   "source": [
    "len(topk_scores)"
   ]
  },
  {
   "cell_type": "code",
   "execution_count": 25,
   "id": "9fb24f75",
   "metadata": {},
   "outputs": [
    {
     "data": {
      "text/html": [
       "<div>\n",
       "<style scoped>\n",
       "    .dataframe tbody tr th:only-of-type {\n",
       "        vertical-align: middle;\n",
       "    }\n",
       "\n",
       "    .dataframe tbody tr th {\n",
       "        vertical-align: top;\n",
       "    }\n",
       "\n",
       "    .dataframe thead th {\n",
       "        text-align: right;\n",
       "    }\n",
       "</style>\n",
       "<table border=\"1\" class=\"dataframe\">\n",
       "  <thead>\n",
       "    <tr style=\"text-align: right;\">\n",
       "      <th></th>\n",
       "      <th>0</th>\n",
       "      <th>1</th>\n",
       "    </tr>\n",
       "  </thead>\n",
       "  <tbody>\n",
       "    <tr>\n",
       "      <th>0</th>\n",
       "      <td>C0000005</td>\n",
       "      <td>(131)I-Macroaggregated Albumin</td>\n",
       "    </tr>\n",
       "    <tr>\n",
       "      <th>1</th>\n",
       "      <td>C0000005</td>\n",
       "      <td>(131)I-MAA</td>\n",
       "    </tr>\n",
       "    <tr>\n",
       "      <th>2</th>\n",
       "      <td>C0000039</td>\n",
       "      <td>1,2-dipalmitoylphosphatidylcholine</td>\n",
       "    </tr>\n",
       "    <tr>\n",
       "      <th>3</th>\n",
       "      <td>C0000039</td>\n",
       "      <td>1,2-dipalmitoylphosphatidylcholine</td>\n",
       "    </tr>\n",
       "    <tr>\n",
       "      <th>4</th>\n",
       "      <td>C0000039</td>\n",
       "      <td>1,2-Dipalmitoylphosphatidylcholine</td>\n",
       "    </tr>\n",
       "  </tbody>\n",
       "</table>\n",
       "</div>"
      ],
      "text/plain": [
       "          0                                   1\n",
       "0  C0000005      (131)I-Macroaggregated Albumin\n",
       "1  C0000005                          (131)I-MAA\n",
       "2  C0000039  1,2-dipalmitoylphosphatidylcholine\n",
       "3  C0000039  1,2-dipalmitoylphosphatidylcholine\n",
       "4  C0000039  1,2-Dipalmitoylphosphatidylcholine"
      ]
     },
     "execution_count": 25,
     "metadata": {},
     "output_type": "execute_result"
    }
   ],
   "source": [
    "df_kb = pd.read_csv('umls_en_kb.tsv', sep='\\t', header=None)\n",
    "df_kb.head()"
   ]
  },
  {
   "cell_type": "code",
   "execution_count": 26,
   "id": "c41c92a5",
   "metadata": {},
   "outputs": [],
   "source": [
    "topk_cids_cui = [df_kb.iloc[idx][0] for idx in topk_cids]"
   ]
  },
  {
   "cell_type": "code",
   "execution_count": 27,
   "id": "f990ea2b",
   "metadata": {},
   "outputs": [
    {
     "data": {
      "text/plain": [
       "['C0068946',\n",
       " 'C0068946',\n",
       " 'C0068946',\n",
       " 'C0608491',\n",
       " 'C0608491',\n",
       " 'C0162638',\n",
       " 'C0162638',\n",
       " 'C0162638',\n",
       " 'C0085262',\n",
       " 'C0085262']"
      ]
     },
     "execution_count": 27,
     "metadata": {},
     "output_type": "execute_result"
    }
   ],
   "source": [
    "topk_cids_cui[0:10]"
   ]
  },
  {
   "cell_type": "code",
   "execution_count": null,
   "id": "f9740abb",
   "metadata": {},
   "outputs": [],
   "source": []
  },
  {
   "cell_type": "code",
   "execution_count": 28,
   "id": "1440fb1d",
   "metadata": {},
   "outputs": [
    {
     "data": {
      "text/html": [
       "<div>\n",
       "<style scoped>\n",
       "    .dataframe tbody tr th:only-of-type {\n",
       "        vertical-align: middle;\n",
       "    }\n",
       "\n",
       "    .dataframe tbody tr th {\n",
       "        vertical-align: top;\n",
       "    }\n",
       "\n",
       "    .dataframe thead th {\n",
       "        text-align: right;\n",
       "    }\n",
       "</style>\n",
       "<table border=\"1\" class=\"dataframe\">\n",
       "  <thead>\n",
       "    <tr style=\"text-align: right;\">\n",
       "      <th></th>\n",
       "      <th>document_id</th>\n",
       "      <th>sentence_id</th>\n",
       "      <th>doc_start_index</th>\n",
       "      <th>doc_end_index</th>\n",
       "      <th>sentence_entity_start</th>\n",
       "      <th>sentence_entity_end</th>\n",
       "      <th>text_segment</th>\n",
       "    </tr>\n",
       "  </thead>\n",
       "  <tbody>\n",
       "    <tr>\n",
       "      <th>0</th>\n",
       "      <td>25847295</td>\n",
       "      <td>0</td>\n",
       "      <td>0</td>\n",
       "      <td>513</td>\n",
       "      <td>66</td>\n",
       "      <td>77</td>\n",
       "      <td>Nonylphenol</td>\n",
       "    </tr>\n",
       "    <tr>\n",
       "      <th>1</th>\n",
       "      <td>25847295</td>\n",
       "      <td>0</td>\n",
       "      <td>0</td>\n",
       "      <td>513</td>\n",
       "      <td>94</td>\n",
       "      <td>105</td>\n",
       "      <td>nonylphenol</td>\n",
       "    </tr>\n",
       "    <tr>\n",
       "      <th>2</th>\n",
       "      <td>25847295</td>\n",
       "      <td>0</td>\n",
       "      <td>0</td>\n",
       "      <td>513</td>\n",
       "      <td>370</td>\n",
       "      <td>381</td>\n",
       "      <td>nonylphenol</td>\n",
       "    </tr>\n",
       "    <tr>\n",
       "      <th>3</th>\n",
       "      <td>25847295</td>\n",
       "      <td>0</td>\n",
       "      <td>0</td>\n",
       "      <td>513</td>\n",
       "      <td>12</td>\n",
       "      <td>24</td>\n",
       "      <td>diethoxylate</td>\n",
       "    </tr>\n",
       "    <tr>\n",
       "      <th>4</th>\n",
       "      <td>25847295</td>\n",
       "      <td>0</td>\n",
       "      <td>0</td>\n",
       "      <td>513</td>\n",
       "      <td>382</td>\n",
       "      <td>394</td>\n",
       "      <td>diethoxylate</td>\n",
       "    </tr>\n",
       "  </tbody>\n",
       "</table>\n",
       "</div>"
      ],
      "text/plain": [
       "   document_id  sentence_id  doc_start_index  doc_end_index   \n",
       "0     25847295            0                0            513  \\\n",
       "1     25847295            0                0            513   \n",
       "2     25847295            0                0            513   \n",
       "3     25847295            0                0            513   \n",
       "4     25847295            0                0            513   \n",
       "\n",
       "   sentence_entity_start  sentence_entity_end  text_segment  \n",
       "0                     66                   77   Nonylphenol  \n",
       "1                     94                  105   nonylphenol  \n",
       "2                    370                  381   nonylphenol  \n",
       "3                     12                   24  diethoxylate  \n",
       "4                    382                  394  diethoxylate  "
      ]
     },
     "execution_count": 28,
     "metadata": {},
     "output_type": "execute_result"
    }
   ],
   "source": [
    "df_medmentions_test = pd.read_csv('st21pv_test_0928v1llama13b_entities_nofuzzy.tsv', sep='\\t', header=0) \n",
    "#df_medmentions_test = pd.read_csv('bg_gold_standard_entities-predicted_lev_norm.tsv', sep='\\t', header=0) \n",
    "#bg_gold_standard_entities-predicted_lev_norm bg_test_0813v113b_entities_nofuzzy\n",
    "#gs_st21pv_test_entities\n",
    "df_medmentions_test.head()"
   ]
  },
  {
   "cell_type": "code",
   "execution_count": 31,
   "id": "43664c07",
   "metadata": {},
   "outputs": [
    {
     "data": {
      "text/plain": [
       "(27446, 2)"
      ]
     },
     "execution_count": 31,
     "metadata": {},
     "output_type": "execute_result"
    }
   ],
   "source": [
    "df_query_file = pd.read_csv('mm_llama_umls_query.tsv', sep='\\t', header=None) \n",
    "df_query_file.shape\n",
    "#27884439\t1\t654\t1061\t319\t321\tNA - 14331"
   ]
  },
  {
   "cell_type": "code",
   "execution_count": 32,
   "id": "969e5f99",
   "metadata": {},
   "outputs": [
    {
     "data": {
      "text/html": [
       "<div>\n",
       "<style scoped>\n",
       "    .dataframe tbody tr th:only-of-type {\n",
       "        vertical-align: middle;\n",
       "    }\n",
       "\n",
       "    .dataframe tbody tr th {\n",
       "        vertical-align: top;\n",
       "    }\n",
       "\n",
       "    .dataframe thead th {\n",
       "        text-align: right;\n",
       "    }\n",
       "</style>\n",
       "<table border=\"1\" class=\"dataframe\">\n",
       "  <thead>\n",
       "    <tr style=\"text-align: right;\">\n",
       "      <th></th>\n",
       "      <th>0</th>\n",
       "      <th>1</th>\n",
       "    </tr>\n",
       "  </thead>\n",
       "  <tbody>\n",
       "    <tr>\n",
       "      <th>0</th>\n",
       "      <td>0</td>\n",
       "      <td>Nonylphenol</td>\n",
       "    </tr>\n",
       "    <tr>\n",
       "      <th>1</th>\n",
       "      <td>1</td>\n",
       "      <td>nonylphenol</td>\n",
       "    </tr>\n",
       "    <tr>\n",
       "      <th>2</th>\n",
       "      <td>2</td>\n",
       "      <td>nonylphenol</td>\n",
       "    </tr>\n",
       "    <tr>\n",
       "      <th>3</th>\n",
       "      <td>3</td>\n",
       "      <td>diethoxylate</td>\n",
       "    </tr>\n",
       "    <tr>\n",
       "      <th>4</th>\n",
       "      <td>4</td>\n",
       "      <td>diethoxylate</td>\n",
       "    </tr>\n",
       "  </tbody>\n",
       "</table>\n",
       "</div>"
      ],
      "text/plain": [
       "   0             1\n",
       "0  0   Nonylphenol\n",
       "1  1   nonylphenol\n",
       "2  2   nonylphenol\n",
       "3  3  diethoxylate\n",
       "4  4  diethoxylate"
      ]
     },
     "execution_count": 32,
     "metadata": {},
     "output_type": "execute_result"
    }
   ],
   "source": [
    "df_query_file.head()"
   ]
  },
  {
   "cell_type": "code",
   "execution_count": 29,
   "id": "d362e195",
   "metadata": {},
   "outputs": [
    {
     "data": {
      "text/plain": [
       "(27447, 7)"
      ]
     },
     "execution_count": 29,
     "metadata": {},
     "output_type": "execute_result"
    }
   ],
   "source": [
    "df_medmentions_test.shape"
   ]
  },
  {
   "cell_type": "code",
   "execution_count": 90,
   "id": "af290ef5",
   "metadata": {},
   "outputs": [],
   "source": [
    "#df_medmentions_test = df_medmentions_test[~df_medmentions_test['span'].isnull()]"
   ]
  },
  {
   "cell_type": "code",
   "execution_count": 37,
   "id": "55b33f6e",
   "metadata": {},
   "outputs": [],
   "source": [
    "df_medmentions_test['code'] = topk_cids_cui[0:14330] + [''] + topk_cids_cui[14330:]\n",
    "df_medmentions_test['code'] = df_medmentions_test['code'].apply(lambda x: 'UMLS:'+x)"
   ]
  },
  {
   "cell_type": "code",
   "execution_count": 38,
   "id": "8b1c4de0",
   "metadata": {},
   "outputs": [
    {
     "data": {
      "text/html": [
       "<div>\n",
       "<style scoped>\n",
       "    .dataframe tbody tr th:only-of-type {\n",
       "        vertical-align: middle;\n",
       "    }\n",
       "\n",
       "    .dataframe tbody tr th {\n",
       "        vertical-align: top;\n",
       "    }\n",
       "\n",
       "    .dataframe thead th {\n",
       "        text-align: right;\n",
       "    }\n",
       "</style>\n",
       "<table border=\"1\" class=\"dataframe\">\n",
       "  <thead>\n",
       "    <tr style=\"text-align: right;\">\n",
       "      <th></th>\n",
       "      <th>document_id</th>\n",
       "      <th>sentence_id</th>\n",
       "      <th>doc_start_index</th>\n",
       "      <th>doc_end_index</th>\n",
       "      <th>sentence_entity_start</th>\n",
       "      <th>sentence_entity_end</th>\n",
       "      <th>text_segment</th>\n",
       "      <th>code</th>\n",
       "    </tr>\n",
       "  </thead>\n",
       "  <tbody>\n",
       "    <tr>\n",
       "      <th>0</th>\n",
       "      <td>25847295</td>\n",
       "      <td>0</td>\n",
       "      <td>0</td>\n",
       "      <td>513</td>\n",
       "      <td>66</td>\n",
       "      <td>77</td>\n",
       "      <td>Nonylphenol</td>\n",
       "      <td>UMLS:C0068946</td>\n",
       "    </tr>\n",
       "    <tr>\n",
       "      <th>1</th>\n",
       "      <td>25847295</td>\n",
       "      <td>0</td>\n",
       "      <td>0</td>\n",
       "      <td>513</td>\n",
       "      <td>94</td>\n",
       "      <td>105</td>\n",
       "      <td>nonylphenol</td>\n",
       "      <td>UMLS:C0068946</td>\n",
       "    </tr>\n",
       "    <tr>\n",
       "      <th>2</th>\n",
       "      <td>25847295</td>\n",
       "      <td>0</td>\n",
       "      <td>0</td>\n",
       "      <td>513</td>\n",
       "      <td>370</td>\n",
       "      <td>381</td>\n",
       "      <td>nonylphenol</td>\n",
       "      <td>UMLS:C0068946</td>\n",
       "    </tr>\n",
       "    <tr>\n",
       "      <th>3</th>\n",
       "      <td>25847295</td>\n",
       "      <td>0</td>\n",
       "      <td>0</td>\n",
       "      <td>513</td>\n",
       "      <td>12</td>\n",
       "      <td>24</td>\n",
       "      <td>diethoxylate</td>\n",
       "      <td>UMLS:C0608491</td>\n",
       "    </tr>\n",
       "    <tr>\n",
       "      <th>4</th>\n",
       "      <td>25847295</td>\n",
       "      <td>0</td>\n",
       "      <td>0</td>\n",
       "      <td>513</td>\n",
       "      <td>382</td>\n",
       "      <td>394</td>\n",
       "      <td>diethoxylate</td>\n",
       "      <td>UMLS:C0608491</td>\n",
       "    </tr>\n",
       "  </tbody>\n",
       "</table>\n",
       "</div>"
      ],
      "text/plain": [
       "   document_id  sentence_id  doc_start_index  doc_end_index   \n",
       "0     25847295            0                0            513  \\\n",
       "1     25847295            0                0            513   \n",
       "2     25847295            0                0            513   \n",
       "3     25847295            0                0            513   \n",
       "4     25847295            0                0            513   \n",
       "\n",
       "   sentence_entity_start  sentence_entity_end  text_segment           code  \n",
       "0                     66                   77   Nonylphenol  UMLS:C0068946  \n",
       "1                     94                  105   nonylphenol  UMLS:C0068946  \n",
       "2                    370                  381   nonylphenol  UMLS:C0068946  \n",
       "3                     12                   24  diethoxylate  UMLS:C0608491  \n",
       "4                    382                  394  diethoxylate  UMLS:C0608491  "
      ]
     },
     "execution_count": 38,
     "metadata": {},
     "output_type": "execute_result"
    }
   ],
   "source": [
    "df_medmentions_test.head()"
   ]
  },
  {
   "cell_type": "code",
   "execution_count": 40,
   "id": "c0fa049d",
   "metadata": {},
   "outputs": [
    {
     "data": {
      "text/plain": [
       "document_id                   27884439\n",
       "sentence_id                          1\n",
       "doc_start_index                    654\n",
       "doc_end_index                     1061\n",
       "sentence_entity_start              352\n",
       "sentence_entity_end                359\n",
       "text_segment                   Dorpers\n",
       "code                     UMLS:C1489583\n",
       "Name: 14331, dtype: object"
      ]
     },
     "execution_count": 40,
     "metadata": {},
     "output_type": "execute_result"
    }
   ],
   "source": [
    "df_medmentions_test.iloc[14331]"
   ]
  },
  {
   "cell_type": "code",
   "execution_count": 41,
   "id": "64806ff9",
   "metadata": {},
   "outputs": [],
   "source": [
    "#df_medmentions_test.to_csv('st21pv_test_entities_pred_sap.tsv', sep='\\t', index=False)\n",
    "df_medmentions_test.to_csv('st21pv_test_0928v1llama13b_entities_nofuzzy_linked_sap.tsv', sep='\\t', index=False)\n",
    "#df_medmentions_test.to_csv('bg_gold_standard_entities-predicted_sap_xlmr_norm.tsv', sep='\\t', index=False)"
   ]
  },
  {
   "cell_type": "code",
   "execution_count": null,
   "id": "bb19ba97",
   "metadata": {},
   "outputs": [],
   "source": [
    "#bg_gold_standard_entities-manual_translated\n",
    "#bg_test_0813v113b_entities_nofuzzy"
   ]
  },
  {
   "cell_type": "code",
   "execution_count": null,
   "id": "39b0e150",
   "metadata": {},
   "outputs": [],
   "source": []
  },
  {
   "cell_type": "code",
   "execution_count": null,
   "id": "0766ae3d",
   "metadata": {},
   "outputs": [],
   "source": []
  }
 ],
 "metadata": {
  "kernelspec": {
   "display_name": "Python 3 (ipykernel)",
   "language": "python",
   "name": "python3"
  },
  "language_info": {
   "codemirror_mode": {
    "name": "ipython",
    "version": 3
   },
   "file_extension": ".py",
   "mimetype": "text/x-python",
   "name": "python",
   "nbconvert_exporter": "python",
   "pygments_lexer": "ipython3",
   "version": "3.10.12"
  }
 },
 "nbformat": 4,
 "nbformat_minor": 5
}
